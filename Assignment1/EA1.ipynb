{
 "cells": [
  {
   "cell_type": "code",
   "execution_count": 4,
   "metadata": {},
   "outputs": [],
   "source": [
    "import sys\n",
    "import os\n",
    "\n",
    "# 获取当前 notebook 的路径\n",
    "current_path = os.path.dirname(os.path.abspath('__file__'))\n",
    "\n",
    "# 将 evoman_framework 文件夹添加到 sys.path\n",
    "sys.path.append(os.path.join(current_path, '..'))\n",
    "\n",
    "# 现在可以导入 evoman 环境中的内容\n",
    "from evoman.environment import Environment\n",
    "from evoman.controller import Controller\n",
    "import numpy as np\n"
   ]
  },
  {
   "cell_type": "markdown",
   "metadata": {},
   "source": [
    "Define controller"
   ]
  },
  {
   "cell_type": "code",
   "execution_count": 5,
   "metadata": {},
   "outputs": [],
   "source": [
    "class NeuralNetworkController(Controller):\n",
    "    def __init__(self):\n",
    "        # 初始化权重，假设有20个输入和5个输出动作\n",
    "        self.weights1 = np.random.rand(20, 10)  # 输入到隐藏层\n",
    "        self.weights2 = np.random.rand(10, 5)   # 隐藏层到输出层\n",
    "\n",
    "    def sigmoid(self, x):\n",
    "        return 1 / (1 + np.exp(-x))\n",
    "\n",
    "    def control(self, sensors, _):\n",
    "        # 神经网络前向传播\n",
    "        hidden_layer = self.sigmoid(np.dot(sensors, self.weights1))\n",
    "        output_layer = self.sigmoid(np.dot(hidden_layer, self.weights2))\n",
    "\n",
    "        # 根据输出层的值决定动作（假设输出是布尔类型）\n",
    "        left = output_layer[0] > 0.5\n",
    "        right = output_layer[1] > 0.5\n",
    "        jump = output_layer[2] > 0.5\n",
    "        shoot = output_layer[3] > 0.5\n",
    "\n",
    "        return [left, right, jump, shoot]"
   ]
  },
  {
   "cell_type": "markdown",
   "metadata": {},
   "source": [
    "Define Enviroment here"
   ]
  },
  {
   "cell_type": "code",
   "execution_count": null,
   "metadata": {},
   "outputs": [],
   "source": [
    "env = Environment(enemymode=\"static\",speed=\"fastest\",player_controller=NeuralNetworkController())"
   ]
  },
  {
   "cell_type": "code",
   "execution_count": null,
   "metadata": {},
   "outputs": [],
   "source": []
  },
  {
   "cell_type": "markdown",
   "metadata": {},
   "source": [
    "Define Optimization ALgorithm"
   ]
  }
 ],
 "metadata": {
  "kernelspec": {
   "display_name": "EC",
   "language": "python",
   "name": "python3"
  },
  "language_info": {
   "codemirror_mode": {
    "name": "ipython",
    "version": 3
   },
   "file_extension": ".py",
   "mimetype": "text/x-python",
   "name": "python",
   "nbconvert_exporter": "python",
   "pygments_lexer": "ipython3",
   "version": "3.12.2"
  }
 },
 "nbformat": 4,
 "nbformat_minor": 2
}
